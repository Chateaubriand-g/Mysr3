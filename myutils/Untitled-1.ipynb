{
 "cells": [
  {
   "cell_type": "code",
   "execution_count": null,
   "metadata": {},
   "outputs": [],
   "source": [
    "import wandb\n",
    "import random\n",
    "\n",
    "# start a new wandb run to track this script\n",
    "wandb.init(\n",
    "    # set the wandb project where this run will be logged\n",
    "    project=\"my-awesome-project\",\n",
    "\n",
    "    # track hyperparameters and run metadata\n",
    "    config={\n",
    "    \"learning_rate\": 0.02,\n",
    "    \"architecture\": \"CNN\",\n",
    "    \"dataset\": \"CIFAR-100\",\n",
    "    \"epochs\": 10,\n",
    "    }\n",
    ")\n",
    "\n",
    "# simulate training\n",
    "epochs = 10\n",
    "offset = random.random() / 5\n",
    "for epoch in range(2, epochs):\n",
    "    acc = 1 - 2 ** -epoch - random.random() / epoch - offset\n",
    "    loss = 2 ** -epoch + random.random() / epoch + offset\n",
    "\n",
    "    # log metrics to wandb\n",
    "    wandb.log({\"acc\": acc, \"loss\": loss})\n",
    "\n",
    "# [optional] finish the wandb run, necessary in notebooks\n",
    "wandb.finish()"
   ]
  },
  {
   "cell_type": "code",
   "execution_count": null,
   "metadata": {},
   "outputs": [],
   "source": [
    "import sys\n",
    "sys.argv"
   ]
  },
  {
   "cell_type": "code",
   "execution_count": null,
   "metadata": {},
   "outputs": [],
   "source": [
    "import argparse\n",
    "parser = argparse.ArgumentParser()\n",
    "parser.add_argument('-c', '--config', type=str, default='config/sr3_16_128.json',\n",
    "                    help='JSON file for configuration')\n",
    "parser.add_argument('-p', '--phase', type=str, choices=['train', 'val'],\n",
    "                    help='Run either train(training) or val(generation)', default='train')\n",
    "parser.add_argument('-gpu', '--gpu_ids', type=str, default=None)\n",
    "parser.add_argument('-debug', '-d', action='store_true')\n",
    "parser.add_argument('-enable_wandb', action='store_true')\n",
    "parser.add_argument('-log_wandb_ckpt', action='store_true')\n",
    "parser.add_argument('-log_eval', action='store_true')\n",
    "\n",
    "# parse configs\n",
    "args = parser.parse_known_args()[0]"
   ]
  },
  {
   "cell_type": "code",
   "execution_count": null,
   "metadata": {},
   "outputs": [],
   "source": [
    "phase = args.phase\n",
    "opt_path = args.config\n",
    "gpu_ids = args.gpu_ids\n",
    "enable_wandb = args.enable_wandb\n",
    "print(phase, opt_path, gpu_ids, enable_wandb)"
   ]
  },
  {
   "cell_type": "code",
   "execution_count": null,
   "metadata": {},
   "outputs": [],
   "source": [
    "bool = (None==0)\n",
    "bool"
   ]
  },
  {
   "cell_type": "code",
   "execution_count": 8,
   "metadata": {},
   "outputs": [],
   "source": [
    "from pathlib import Path\n",
    "from PIL import Image\n",
    "import lmdb\n",
    "import numpy as np"
   ]
  },
  {
   "cell_type": "code",
   "execution_count": 7,
   "metadata": {},
   "outputs": [
    {
     "data": {
      "text/plain": [
       "196608"
      ]
     },
     "execution_count": 7,
     "metadata": {},
     "output_type": "execute_result"
    }
   ],
   "source": [
    "file = Image.open('../datasets/celeba_hq_256/00000.jpg')\n",
    "file  = np.array(file)\n",
    "file.nbytes"
   ]
  },
  {
   "cell_type": "code",
   "execution_count": null,
   "metadata": {},
   "outputs": [],
   "source": [
    "file_path = Path('../datasets/celeba_16_128/16_lr')\n",
    "file = [x for x in file_path.iterdir() if x.is_file()]\n",
    "file"
   ]
  },
  {
   "cell_type": "code",
   "execution_count": 12,
   "metadata": {},
   "outputs": [],
   "source": [
    "lmdb_file_path = Path('../datasets/celeba_lmdb_16_128')\n",
    "env = lmdb.open(str(lmdb_file_path),readonly=True,readahead=False,lock=False)"
   ]
  },
  {
   "cell_type": "code",
   "execution_count": 26,
   "metadata": {},
   "outputs": [
    {
     "name": "stdout",
     "output_type": "stream",
     "text": [
      "b'\\x89PNG\\r\\n\\x1a\\n\\x00\\x00\\x00\\rIHDR\\x00\\x00\\x00\\x10\\x00\\x00\\x00\\x10\\x08\\x02\\x00\\x00\\x00\\x90\\x91h6\\x00\\x00\\x02|IDATx\\x9cE\\x8f\\xdbN\\x13Q\\x18F\\xff\\xbdg:\\x9d\\xe9\\xb4\\xa5\\x87\\x81\\xb6\\x94J\\x80bl\\xaa\\xa0Q\\x13\\x12\\x8d\\x89z\\xe3\\x8d\\x0f\\xe1K\\x18\\xdf\\xca\\x87\\xf0\\xd6D\\x03B@\\xa0@\\xa1\\xd0\\x03\\x9d\\xf3q\\xcf\\xec\\xfd{A\\x84\\xef~}+\\x8b|\\xfb\\xfa\\x05@\\x00\\x00\\xa5\\x94P\\x12\\xf8\\xe1\\xc1\\xc1\\xc01]\\xcf\\xf7\\xb5\\x82Z,\\xe9\\xbd\\xfe\\xc6\\xf2r#\\xcb\\xb8\\x10\\x02\\x91\\xc8\\xf0\\x7f\\x84\\x10\\xcbt\\x0f\\xf7O\\xafF\\x13MS\\x90\\xa0\\xeb\\x06\\xb7\\xb7\\x9ee\\xfa\\xdd\\xcdvws\\x95R\\x8a\\x00\\xf2\\xdd=!D\\x081\\xbe\\xbaaQD)\\xa5@\\xd24E\\x94\\x81\\xd2\\xf1\\xd4\\xb2\\x1cW\\xd3\\xd4\\xe5\\x96\\xc1\\x05\\xca\\x88x\\x07x^`\\x9b\\xa6J\\xe1\\xd3\\xce\\xb6\\x10\\xe8\\xba~\\xc6\\xf9\\xc8\\xb2\\xaf\\xe7\\xeetf\\x8f.\\'\\xedF\\x9dp\\xf1\\x00\\xb8\\xb6\\xabJ\\xf4\\xf3\\xfb7\\xfd\\x8dM\\x10\"MY\\x1c\\x07\\x7f\\x8e\\x8f\\xbe\\xff\\xf8mR\\xb0\\x1d\\x1f\\x11\\x08\\xc0CC\\xcay\\xa7\\xd5\\xdcz\\xfa\\x8c\"p\\x91\\xc9\\x12U\\x08Y[Y]1\\xce\\xa6\\x8eW\\xd2\\x0b\\x04Q\\xdc\\x03\\x88\\x98\\xcf\\xe7\\xf2(\\xfd\\xdc?\\x06\\xc4\\xad^\\xd7\\x8f\\xb3_{G\\tc+K\\xad\\xc1\\xf5\\\\\\xd3U$\\x80\\xf7\\r\\x88XP\\xd4\\x02UN\\x86\\x13\\x96\\x04\\x8be\\xc5\\xb1l\\'\\x8a\\x838]_l.\\xd5\\xaf\\n\\x02\\x88\\x00\\xb87p!j\\xba\\xde[[W\\x95\\xa2;\\x9b\\xe8J\\xc9\\xcd\\xac~\\xa7!\\xe7\\x8aD\\xa2\\xc6I\\xa5k\\x18\\x81\\x10\\x08@\\x11\\x01\\x11\\x10Q\\xd2\\xd4\\x85b\\xa9]*..\\xa8\\xb7\\xe6<\\x8e\\xe2F\\xb5\\xd4(j\\x89\\xeb\\xb7\\xea\\xd5\\\\YgB\\xa0\\x00\\x99J\\n\\x80\\x00\\xe4\\x11O\\xcf/\\x06f\\x9c0Y\\xf6\\x19\\'rn6\\x9e\\xd4k\\x15\\xdb\\x9a1\\xce]\\x9a\\x01G\\x04A\\xf5J\\xd7h\\xbf\\x94\\xd4\\xd6|\\xee\\xdfXN\\xaa\\x91\\xe1\\xad\\xff\\xe8qo\\xa1\\xf5h\\x12\\xb34\\'R\\x91\\xcd<\\xef\\xc6t\\xeeb\\xe5\\xe1\\xe0Z\\x08\\x08C\\xc7u3[J\\xd6\\r\\xbd\\xb7\\xd6\\xb4N\\x87\\xaa\\x9e[\\xef\\x18\\xbe\\x1f\\xd9A0\\xb5\\xc2\\xd1\\xd9\\xec\\xc3\\xdb\\'\\xb2Di\\xcax\\xc2\\x18\\xa2\\x94W\\xb5\\x80+\\xfbC+_\\xccuV\\x1b\\xf5\\xa5\\x92\\xedy\\x7f/F\\x04\\xb2\\x9dw\\x1f+\\xb5Z\\xc6\\xb9@\\x94\\xb5r=c,M\\x02Y\\xd1\\x88\\xc4$\\x85\\xef\\x1e\\x9e)R!bQ\\x92\\x04\\xed\\x9a\\xbe\\xd4\\xdf>\\xc7\\xc6\\xf3\\x17\\xaf\\x90\\x8d3\\x8c\\xe5\\x85j\\x9d\\xb3$\\x0c\\xe4(\\ns\\xf9B\\xb3\\xa9\\x90\\xf02d\\xb1Q\\xce\\xd7\\x8a\\xd5J\\xad\\xca:\\xaf\\xc3\\xdd\\xbd\\x9aadY\\x99\\xa7\\xf6?\\x11\\x9d\\x7f\\xb0}\\xb2!\\x04\\x00\\x00\\x00\\x00IEND\\xaeB`\\x82'\n"
     ]
    }
   ],
   "source": [
    "with env.begin(write=False) as txn:\n",
    "    img_bytes = txn.get('{}_lr_{}'.format(16,str(5).zfill(5)).encode())\n",
    "    print(img_bytes)\n"
   ]
  },
  {
   "cell_type": "code",
   "execution_count": 27,
   "metadata": {},
   "outputs": [
    {
     "data": {
      "image/jpeg": "[encoded data removed]",
      "image/png": "[encoded data removed]",
      "text/plain": [
       "<PIL.Image.Image image mode=RGB size=16x16>"
      ]
     },
     "execution_count": 27,
     "metadata": {},
     "output_type": "execute_result"
    }
   ],
   "source": [
    "from io import BytesIO\n",
    "img = Image.open(BytesIO(img_bytes)).convert('RGB')\n",
    "img"
   ]
  },
  {
   "cell_type": "code",
   "execution_count": 39,
   "metadata": {},
   "outputs": [],
   "source": [
    "import os\n",
    "import json\n",
    "from collections import OrderedDict\n",
    "from datetime import datetime\n",
    "\n",
    "def mkdirs(paths):\n",
    "    if isinstance(paths,str):\n",
    "        os.makedirs(paths,exist_ok=True)\n",
    "    else:\n",
    "        for path in paths:\n",
    "            os.makedirs(path,exist_ok=True)\n",
    "\n",
    "def get_timestamp():\n",
    "    return datetime.now().strftime('%Y%m%d_%H%M%S')\n",
    "\n",
    "def parse(args):\n",
    "    phase =args.phase\n",
    "    config_path = args.config\n",
    "    gpu_ids = args.gpu_ids\n",
    "    enable_wandb = args.enable_wandb\n",
    "\n",
    "    #删除注释并解析json文件\n",
    "    json_str = ''\n",
    "    with open(config_path,'r') as f:\n",
    "        for line in f:\n",
    "            line = line.split('//')[0] + '\\n'\n",
    "            json_str += line\n",
    "    opt = json.loads(json_str, object_pairs_hook=OrderedDict) # OrderedDict保证json文件中键的顺序不变\n",
    "\n",
    "    #设置log文件路径\n",
    "    if args.debug:\n",
    "        opt['name'] = 'debug_{}'.format(opt['name'])\n",
    "    experiments_root = os.path.join('experiments','{}_{}'.format(opt['name'],get_timestamp()))\n",
    "    opt['path']['experiment_root'] = experiments_root\n",
    "    for key,path in opt['path'].items():\n",
    "        if 'resume' not in key and 'expreiments' not in key:\n",
    "            opt['path'][key] = os.path.join(experiments_root,path)\n",
    "            mkdirs(opt['path'][key])\n",
    "\n",
    "    opt['phase'] = phase\n",
    "\n",
    "    #设置分布式gpu\n",
    "    if gpu_ids is not None:\n",
    "        opt['gpu_ids'] = [int(x) for x in gpu_ids.split(',')]\n",
    "        gpu_list = gpu_ids\n",
    "    else:\n",
    "        gpu_list = ','.join([str(x) for x in opt['gpu_ids']])\n",
    "    os.environ['CUDA_VISIBLE_DEVICES'] = gpu_list\n",
    "    if len(gpu_list) > 1:\n",
    "        opt['distributed'] = True\n",
    "    else:\n",
    "        opt['distributed'] = False\n",
    "\n",
    "    #设置wandb\n",
    "    try:\n",
    "        wandb_log_checkpoint = args.wandb_log_checkpoint\n",
    "        opt['wandb']['wandb_log_checkpoint'] = wandb_log_checkpoint\n",
    "    except:\n",
    "        pass\n",
    "    try:\n",
    "        wandb_log_eval = args.wandb_log_eval\n",
    "        opt['wandb']['wandb_log_eval'] = wandb_log_eval\n",
    "    except:\n",
    "        pass\n",
    "    try:\n",
    "        wandb_log_info = args.wandb_log_info\n",
    "        opt['wandb']['wandb_log_info'] = wandb_log_info\n",
    "    except:\n",
    "        pass\n",
    "    opt['wandb']['enable_wandb'] = enable_wandb\n",
    "\n",
    "    return opt\n",
    "\n",
    "    #设置nonedict类，当未匹配到键对时返回None而不是抛出异常\n",
    "class NoneDict(dict):\n",
    "    def __missing__(self, key):\n",
    "        return None\n",
    "    \n",
    "#将opt字典中的所有dict转换为Nonedict类\n",
    "def dict_to_nonedict(opt):\n",
    "    if isinstance(opt, dict):\n",
    "        new_opt = dict()\n",
    "        for key,val in opt.items():\n",
    "            new_opt[key] = dict_to_nonedict(val)\n",
    "        return NoneDict(**new_opt)\n",
    "    elif isinstance(opt,list):\n",
    "        return [dict_to_nonedict(x) for x in opt]\n",
    "    else:\n",
    "        return opt\n"
   ]
  },
  {
   "cell_type": "code",
   "execution_count": 42,
   "metadata": {},
   "outputs": [],
   "source": [
    "import argparse\n",
    "root = Path.cwd().parent/'config'/'sr3_16_128.json'\n",
    "parser = argparse.ArgumentParser()\n",
    "parser.add_argument('--config',default=root,type=str,help='config file path')\n",
    "parser.add_argument('--phase',type = str,default='train',help='train or test')\n",
    "parser.add_argument('--gpu_ids',type = str,default = None,help='gpu id')\n",
    "parser.add_argument('--debug',action='store_true')\n",
    "parser.add_argument('--enable_wandb',action='store_true')\n",
    "parser.add_argument('-wandb_log_ckpt',action='store_true')\n",
    "parser.add_argument('--log_eval',action='store_true')\n",
    "\n",
    "#设置config\n",
    "args = parser.parse_known_args()\n",
    "args = args[0]\n",
    "opt = parse(args)\n",
    "opt = dict_to_nonedict(opt)"
   ]
  },
  {
   "cell_type": "code",
   "execution_count": 17,
   "metadata": {},
   "outputs": [],
   "source": [
    "json_str = ''\n",
    "with open(args.config,'r') as f:\n",
    "    for line in f:\n",
    "        line = line.split('//')[0] + '\\n'\n",
    "        json_str += line\n",
    "opt = json.loads(json_str, object_pairs_hook=OrderedDict) # OrderedDict保证json文件中键的顺序不变"
   ]
  },
  {
   "cell_type": "code",
   "execution_count": null,
   "metadata": {},
   "outputs": [
    {
     "name": "stdout",
     "output_type": "stream",
     "text": [
      "log logs_sr3_16_128\n",
      "<class 'str'> <class 'str'>\n",
      "<class 'str'>\n",
      "tb_logger tb_logs_sr3_16_128\n",
      "<class 'str'> <class 'str'>\n",
      "<class 'str'>\n",
      "result result\n",
      "<class 'str'> <class 'str'>\n",
      "<class 'str'>\n",
      "checkpoint checkpoint\n",
      "<class 'str'> <class 'str'>\n",
      "<class 'str'>\n"
     ]
    }
   ],
   "source": [
    "for key,value in opt['path'].items():\n",
    "    if 'resume' not in key and 'experiments' not in key:\n",
    "        print(key,value)\n",
    "        print(type(key),type(value))\n",
    "        print(type('resume'))"
   ]
  },
  {
   "cell_type": "code",
   "execution_count": 6,
   "metadata": {},
   "outputs": [
    {
     "ename": "SyntaxError",
     "evalue": "can't use starred expression here (1985169556.py, line 2)",
     "output_type": "error",
     "traceback": [
      "\u001b[1;36m  Cell \u001b[1;32mIn[6], line 2\u001b[1;36m\u001b[0m\n\u001b[1;33m    a,b,c = *shape[1:]\u001b[0m\n\u001b[1;37m            ^\u001b[0m\n\u001b[1;31mSyntaxError\u001b[0m\u001b[1;31m:\u001b[0m can't use starred expression here\n"
     ]
    }
   ],
   "source": [
    "type(shape[1:])\n",
    "a,b,c = *shape[1:]"
   ]
  },
  {
   "cell_type": "code",
   "execution_count": 10,
   "metadata": {},
   "outputs": [
    {
     "data": {
      "text/plain": [
       "(64, 1, 1, 1)"
      ]
     },
     "execution_count": 10,
     "metadata": {},
     "output_type": "execute_result"
    }
   ],
   "source": [
    "shape = (64,3,128,128)\n",
    "(64,*([1]*len(shape[:-1])))"
   ]
  }
 ],
 "metadata": {
  "kernelspec": {
   "display_name": "pyt",
   "language": "python",
   "name": "python3"
  },
  "language_info": {
   "codemirror_mode": {
    "name": "ipython",
    "version": 3
   },
   "file_extension": ".py",
   "mimetype": "text/x-python",
   "name": "python",
   "nbconvert_exporter": "python",
   "pygments_lexer": "ipython3",
   "version": "3.11.10"
  }
 },
 "nbformat": 4,
 "nbformat_minor": 2
}
